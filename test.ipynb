{
 "cells": [
  {
   "cell_type": "code",
   "execution_count": 11,
   "metadata": {},
   "outputs": [],
   "source": [
    "import torch\n",
    "import numpy as np\n",
    "from torch.utils.data import Dataset, DataLoader\n",
    "from torch.nn.utils.rnn import pad_sequence,pack_padded_sequence,pack_sequence,pad_packed_sequence\n",
    "import torch.nn as nn\n",
    "import torch.nn.functional as F"
   ]
  },
  {
   "cell_type": "code",
   "execution_count": 6,
   "metadata": {},
   "outputs": [
    {
     "data": {
      "text/plain": [
       "(tensor([[[0.0407, 0.3822, 0.1209],\n",
       "          [0.5260, 0.1311, 0.5091]],\n",
       " \n",
       "         [[0.2540, 0.2224, 0.1980],\n",
       "          [0.6845, 0.7385, 0.2483]],\n",
       " \n",
       "         [[0.6656, 0.7685, 0.0595],\n",
       "          [0.4402, 0.4833, 0.8783]]]),\n",
       " tensor([[0.2021, 0.1006, 0.8287],\n",
       "         [0.6925, 0.2373, 0.7721],\n",
       "         [0.2806, 0.6980, 0.7132]]))"
      ]
     },
     "execution_count": 6,
     "metadata": {},
     "output_type": "execute_result"
    }
   ],
   "source": [
    "a = torch.rand((3, 2, 3))\n",
    "b = torch.rand((3, 3))\n",
    "a, b"
   ]
  },
  {
   "cell_type": "code",
   "execution_count": 7,
   "metadata": {},
   "outputs": [
    {
     "data": {
      "text/plain": [
       "tensor([[[0.2428, 0.4828, 0.9496],\n",
       "         [0.7281, 0.2317, 1.3379]],\n",
       "\n",
       "        [[0.9464, 0.4597, 0.9701],\n",
       "         [1.3770, 0.9758, 1.0204]],\n",
       "\n",
       "        [[0.9462, 1.4665, 0.7727],\n",
       "         [0.7208, 1.1813, 1.5915]]])"
      ]
     },
     "execution_count": 7,
     "metadata": {},
     "output_type": "execute_result"
    }
   ],
   "source": [
    "a + b.unsqueeze(1)"
   ]
  },
  {
   "cell_type": "code",
   "execution_count": 8,
   "metadata": {},
   "outputs": [
    {
     "data": {
      "text/plain": [
       "tensor([[[0.2540, 0.2224, 0.1980],\n",
       "         [0.6845, 0.7385, 0.2483]],\n",
       "\n",
       "        [[0.6656, 0.7685, 0.0595],\n",
       "         [0.4402, 0.4833, 0.8783]]])"
      ]
     },
     "execution_count": 8,
     "metadata": {},
     "output_type": "execute_result"
    }
   ],
   "source": [
    "a[[1, 2]]"
   ]
  },
  {
   "cell_type": "code",
   "execution_count": 10,
   "metadata": {},
   "outputs": [
    {
     "data": {
      "text/plain": [
       "tensor([1, 2, 3, 1])"
      ]
     },
     "execution_count": 10,
     "metadata": {},
     "output_type": "execute_result"
    }
   ],
   "source": [
    "x = torch.tensor([1, 2, 3])\n",
    "torch.cat([x, torch.tensor([1])])"
   ]
  },
  {
   "cell_type": "code",
   "execution_count": 5,
   "metadata": {},
   "outputs": [
    {
     "data": {
      "text/plain": [
       "array([[[ True, False, False, False],\n",
       "        [ True,  True, False, False],\n",
       "        [ True,  True,  True, False],\n",
       "        [ True,  True,  True,  True]]])"
      ]
     },
     "execution_count": 5,
     "metadata": {},
     "output_type": "execute_result"
    }
   ],
   "source": [
    "np_mask = np.triu(np.ones((1, 4, 4)),\n",
    "    k=1).astype('uint8') == 0\n",
    "np_mask"
   ]
  },
  {
   "cell_type": "code",
   "execution_count": 50,
   "metadata": {},
   "outputs": [
    {
     "data": {
      "text/plain": [
       "PackedSequence(data=tensor([[0.0997, 0.1950, 0.0290, 0.1128],\n",
       "        [0.3349, 0.0675, 0.0088, 0.0861],\n",
       "        [0.1630, 0.1847, 0.0133, 0.0808],\n",
       "        [0.4957, 0.0481, 0.0120, 0.0508],\n",
       "        [0.2692, 0.1285, 0.0189, 0.0660],\n",
       "        [0.6363, 0.0183, 0.0076, 0.0274],\n",
       "        [0.3934, 0.0808, 0.0200, 0.0556]], grad_fn=<CatBackward0>), batch_sizes=tensor([2, 2, 2, 1]), sorted_indices=tensor([0, 1]), unsorted_indices=tensor([0, 1]))"
      ]
     },
     "execution_count": 50,
     "metadata": {},
     "output_type": "execute_result"
    }
   ],
   "source": [
    "from torch.utils.data import Dataset, DataLoader\n",
    "from torch.nn.utils.rnn import pad_sequence,pack_padded_sequence,pack_sequence,pad_packed_sequence\n",
    "import torch.nn as nn\n",
    "\n",
    "class MyData(Dataset):\n",
    "    def __init__(self, data):\n",
    "        self.data = data\n",
    "\n",
    "    def __len__(self):\n",
    "        return len(self.data)\n",
    "\n",
    "    def __getitem__(self, idx):\n",
    "        return self.data[idx]\n",
    "\n",
    "def collate_fn(data):\n",
    "    data.sort(key=lambda x: len(x), reverse=True)\n",
    "    seq_len = [s.size(0) for s in data]\n",
    "    data = pad_sequence(data, batch_first=True).float()    \n",
    "    data = data.unsqueeze(-1)\n",
    "    data = pack_padded_sequence(data, seq_len, batch_first=True, enforce_sorted=False)\n",
    "    return data\n",
    "\n",
    "b = torch.tensor([1,2,3,4])\n",
    "a = torch.tensor([5,6,7])\n",
    "c = torch.tensor([7,8])\n",
    "d = torch.tensor([9])\n",
    "train_x = [a, b]\n",
    "\n",
    "data = MyData(train_x)\n",
    "data_loader = DataLoader(data, batch_size=2, shuffle=True, collate_fn=collate_fn)\n",
    "batch_x = iter(data_loader).next()\n",
    "\n",
    "rnn = nn.LSTM(1, 4, 1, batch_first=True)\n",
    "h0 = torch.rand(1, 2, 4).float()\n",
    "c0 = torch.rand(1, 2, 4).float()\n",
    "out, (h1, c1) = rnn(batch_x, (h0, c0))\n",
    "out"
   ]
  },
  {
   "cell_type": "code",
   "execution_count": 28,
   "metadata": {},
   "outputs": [
    {
     "data": {
      "text/plain": [
       "(torch.Size([138]), torch.Size([138, 2]))"
      ]
     },
     "execution_count": 28,
     "metadata": {},
     "output_type": "execute_result"
    }
   ],
   "source": [
    "embedding_space = torch.rand([138, 1])\n",
    "cluster_encode = F.one_hot(torch.tensor(3), num_classes=10)\n",
    "new_feature = torch.cat([torch.rand([128]), cluster_encode])\n",
    "embedding_space = torch.cat([embedding_space, new_feature.unsqueeze(1)], dim=1)\n",
    "new_feature.shape, embedding_space.shape"
   ]
  },
  {
   "cell_type": "code",
   "execution_count": 33,
   "metadata": {},
   "outputs": [
    {
     "ename": "RuntimeError",
     "evalue": "expand(torch.FloatTensor{[138, 1]}, size=[138]): the number of sizes provided (1) must be greater or equal to the number of dimensions in the tensor (2)",
     "output_type": "error",
     "traceback": [
      "\u001b[1;31m---------------------------------------------------------------------------\u001b[0m",
      "\u001b[1;31mRuntimeError\u001b[0m                              Traceback (most recent call last)",
      "\u001b[1;32m~\\AppData\\Local\\Temp/ipykernel_33084/752921407.py\u001b[0m in \u001b[0;36m<module>\u001b[1;34m\u001b[0m\n\u001b[1;32m----> 1\u001b[1;33m \u001b[0membedding_space\u001b[0m\u001b[1;33m[\u001b[0m\u001b[1;33m:\u001b[0m\u001b[1;33m,\u001b[0m \u001b[1;36m1\u001b[0m\u001b[1;33m]\u001b[0m \u001b[1;33m=\u001b[0m \u001b[0mtorch\u001b[0m\u001b[1;33m.\u001b[0m\u001b[0mzeros\u001b[0m\u001b[1;33m(\u001b[0m\u001b[1;33m(\u001b[0m\u001b[1;36m138\u001b[0m\u001b[1;33m,\u001b[0m \u001b[1;36m1\u001b[0m\u001b[1;33m)\u001b[0m\u001b[1;33m)\u001b[0m\u001b[1;33m\u001b[0m\u001b[1;33m\u001b[0m\u001b[0m\n\u001b[0m\u001b[0;32m      2\u001b[0m \u001b[0membedding_space\u001b[0m\u001b[1;33m\u001b[0m\u001b[1;33m\u001b[0m\u001b[0m\n",
      "\u001b[1;31mRuntimeError\u001b[0m: expand(torch.FloatTensor{[138, 1]}, size=[138]): the number of sizes provided (1) must be greater or equal to the number of dimensions in the tensor (2)"
     ]
    }
   ],
   "source": [
    "embedding_space[:, 1] = torch.zeros((138, 1))\n",
    "embedding_space"
   ]
  },
  {
   "cell_type": "code",
   "execution_count": 42,
   "metadata": {},
   "outputs": [
    {
     "data": {
      "text/plain": [
       "Batch(\n",
       "    a: 4,\n",
       "    b: Batch(),\n",
       ")"
      ]
     },
     "execution_count": 42,
     "metadata": {},
     "output_type": "execute_result"
    }
   ],
   "source": [
    "from tianshou.data import Batch\n",
    "x = Batch(a=[1, 2, 3, 4], b=Batch())\n",
    "y = Batch(a=Batch(), b=[5, 8])\n",
    "#x[np.array([0, 1])] = y\n",
    "x[3]"
   ]
  },
  {
   "cell_type": "code",
   "execution_count": 56,
   "metadata": {},
   "outputs": [
    {
     "data": {
      "text/plain": [
       "Batch(\n",
       "    obs: tensor([[[0.9264, 0.2640, 0.8176, 0.8163, 0.6387]]]),\n",
       "    rwd: tensor([[0.8509]]),\n",
       ")"
      ]
     },
     "execution_count": 56,
     "metadata": {},
     "output_type": "execute_result"
    }
   ],
   "source": [
    "different_obs = Batch(obs=torch.rand((1, 1, 5)), rwd=(torch.rand((1, 1))))\n",
    "different_obs"
   ]
  },
  {
   "cell_type": "code",
   "execution_count": 59,
   "metadata": {},
   "outputs": [
    {
     "data": {
      "text/plain": [
       "array([2, 1])"
      ]
     },
     "execution_count": 59,
     "metadata": {},
     "output_type": "execute_result"
    }
   ],
   "source": [
    "a = np.array([0, 1, 2])\n",
    "a[[1, 2]][[1, 0]]"
   ]
  },
  {
   "cell_type": "code",
   "execution_count": null,
   "metadata": {},
   "outputs": [],
   "source": []
  }
 ],
 "metadata": {
  "interpreter": {
   "hash": "bc2ae9abb999891824c1b0df891f37fe3f6c021ca053b3b782533e33aaac3d65"
  },
  "kernelspec": {
   "display_name": "Python 3.9.5 ('base')",
   "language": "python",
   "name": "python3"
  },
  "language_info": {
   "codemirror_mode": {
    "name": "ipython",
    "version": 3
   },
   "file_extension": ".py",
   "mimetype": "text/x-python",
   "name": "python",
   "nbconvert_exporter": "python",
   "pygments_lexer": "ipython3",
   "version": "3.9.5"
  },
  "orig_nbformat": 4
 },
 "nbformat": 4,
 "nbformat_minor": 2
}
