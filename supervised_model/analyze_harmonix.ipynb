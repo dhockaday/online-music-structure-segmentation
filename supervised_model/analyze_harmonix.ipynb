{
 "cells": [
  {
   "cell_type": "code",
   "execution_count": 2,
   "metadata": {},
   "outputs": [],
   "source": [
    "import pandas as pd\n",
    "import os\n",
    "import numpy as np"
   ]
  },
  {
   "cell_type": "code",
   "execution_count": 3,
   "metadata": {},
   "outputs": [],
   "source": [
    "dataset_dir = 'C:\\\\UR\\\\AIR Lab\\\\thesis\\\\dataset\\\\harmonixset-master\\\\dataset'\n",
    "segment_dir = os.path.join(dataset_dir, 'segments')\n",
    "mel_dir = os.path.join(dataset_dir, 'melspecs')"
   ]
  },
  {
   "cell_type": "code",
   "execution_count": 12,
   "metadata": {},
   "outputs": [],
   "source": [
    "labels = []\n",
    "for f in os.listdir(segment_dir):\n",
    "    if not f.endswith('txt'):\n",
    "        continue\n",
    "    segment_path = os.path.join(segment_dir, f)\n",
    "    segment = pd.read_csv(segment_path, sep=' ', header=None, names=['time', 'label'])\n",
    "\n",
    "    break\n",
    "    labels += list(segment['label'])"
   ]
  },
  {
   "cell_type": "code",
   "execution_count": 17,
   "metadata": {},
   "outputs": [
    {
     "data": {
      "text/plain": [
       "'intro'"
      ]
     },
     "execution_count": 17,
     "metadata": {},
     "output_type": "execute_result"
    }
   ],
   "source": [
    "segment['label'][0]"
   ]
  },
  {
   "cell_type": "code",
   "execution_count": 23,
   "metadata": {},
   "outputs": [
    {
     "data": {
      "text/plain": [
       "chorus       3093\n",
       "verse        2082\n",
       "end           914\n",
       "intro         848\n",
       "prechorus     726\n",
       "             ... \n",
       "section4        1\n",
       "instintro       1\n",
       "section6        1\n",
       "section7        1\n",
       "section5        1\n",
       "Length: 126, dtype: int64"
      ]
     },
     "execution_count": 23,
     "metadata": {},
     "output_type": "execute_result"
    }
   ],
   "source": [
    "labels = pd.Series(labels)\n",
    "labels.str.r\n",
    "labels.value_counts()"
   ]
  },
  {
   "cell_type": "code",
   "execution_count": 7,
   "metadata": {},
   "outputs": [
    {
     "data": {
      "text/plain": [
       "(80, 3386)"
      ]
     },
     "execution_count": 7,
     "metadata": {},
     "output_type": "execute_result"
    }
   ],
   "source": [
    "mel_fp = os.path.join(mel_dir, '0003_6foot7foot-mel.npy')\n",
    "mel = np.load(mel_fp)\n",
    "mel.shape"
   ]
  },
  {
   "cell_type": "code",
   "execution_count": 8,
   "metadata": {},
   "outputs": [
    {
     "data": {
      "text/plain": [
       "array([[2.15089517e-06, 2.44639086e-05, 1.76420745e-05, ...,\n",
       "        1.36578931e-02, 1.01484060e-02, 8.43721282e-05],\n",
       "       [4.85132205e-07, 7.06332855e-07, 3.31322997e-10, ...,\n",
       "        3.45067517e-03, 2.98460037e-03, 6.60460282e-05],\n",
       "       [1.74625697e-07, 2.15623814e-07, 3.63126126e-11, ...,\n",
       "        7.69211783e-06, 1.27574676e-04, 2.26241718e-05],\n",
       "       ...,\n",
       "       [9.87641746e-10, 4.87339813e-09, 6.83781076e-09, ...,\n",
       "        3.75404685e-09, 7.61876517e-09, 1.87028659e-09],\n",
       "       [8.63811911e-10, 4.24621760e-09, 7.84584664e-09, ...,\n",
       "        2.42060505e-09, 4.82305174e-09, 1.29327937e-09],\n",
       "       [1.01172806e-10, 9.61138169e-10, 1.27100275e-09, ...,\n",
       "        6.23643470e-10, 1.19740839e-09, 4.05644296e-10]], dtype=float32)"
      ]
     },
     "execution_count": 8,
     "metadata": {},
     "output_type": "execute_result"
    }
   ],
   "source": [
    "mel"
   ]
  },
  {
   "cell_type": "code",
   "execution_count": null,
   "metadata": {},
   "outputs": [],
   "source": []
  }
 ],
 "metadata": {
  "interpreter": {
   "hash": "bc2ae9abb999891824c1b0df891f37fe3f6c021ca053b3b782533e33aaac3d65"
  },
  "kernelspec": {
   "display_name": "Python 3.9.5 ('base')",
   "language": "python",
   "name": "python3"
  },
  "language_info": {
   "codemirror_mode": {
    "name": "ipython",
    "version": 3
   },
   "file_extension": ".py",
   "mimetype": "text/x-python",
   "name": "python",
   "nbconvert_exporter": "python",
   "pygments_lexer": "ipython3",
   "version": "3.9.5"
  },
  "orig_nbformat": 4
 },
 "nbformat": 4,
 "nbformat_minor": 2
}
